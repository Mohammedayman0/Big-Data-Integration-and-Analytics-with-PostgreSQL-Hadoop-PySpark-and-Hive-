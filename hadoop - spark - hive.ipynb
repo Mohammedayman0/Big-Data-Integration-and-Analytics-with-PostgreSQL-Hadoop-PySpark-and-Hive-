{
 "cells": [
  {
   "cell_type": "code",
   "execution_count": 1,
   "id": "d1065266",
   "metadata": {},
   "outputs": [],
   "source": [
    "import pyspark\n",
    "from pyspark.sql import SparkSession\n",
    "from pyspark.sql import Row"
   ]
  },
  {
   "cell_type": "code",
   "execution_count": 2,
   "id": "090104c8",
   "metadata": {},
   "outputs": [
    {
     "name": "stderr",
     "output_type": "stream",
     "text": [
      "2024-06-30 23:35:15,439 WARN util.Utils: Your hostname, mohamed-ASUS-TUF-Gaming-F15-FX507ZC4-FX507ZC4 resolves to a loopback address: 127.0.1.1; using 192.168.1.6 instead (on interface wlo1)\n",
      "2024-06-30 23:35:15,440 WARN util.Utils: Set SPARK_LOCAL_IP if you need to bind to another address\n",
      "2024-06-30 23:35:25,880 WARN util.NativeCodeLoader: Unable to load native-hadoop library for your platform... using builtin-java classes where applicable\n",
      "Setting default log level to \"WARN\".\n",
      "To adjust logging level use sc.setLogLevel(newLevel). For SparkR, use setLogLevel(newLevel).\n",
      "2024-06-30 23:35:27,108 WARN util.Utils: Service 'SparkUI' could not bind on port 4040. Attempting port 4041.\n",
      "2024-06-30 23:35:27,109 WARN util.Utils: Service 'SparkUI' could not bind on port 4041. Attempting port 4042.\n",
      "2024-06-30 23:35:27,109 WARN util.Utils: Service 'SparkUI' could not bind on port 4042. Attempting port 4043.\n"
     ]
    }
   ],
   "source": [
    "spark = SparkSession.builder.config(\"spark.jars\", \"/home/hadoop/jars/postgresql-42.6.2.jar\") \\\n",
    ".master(\"local\").appName(\"PySpark_Postgres_test\").getOrCreate()"
   ]
  },
  {
   "cell_type": "code",
   "execution_count": 3,
   "id": "23bb5e89",
   "metadata": {},
   "outputs": [],
   "source": [
    "spark = SparkSession.builder \\\n",
    "    .appName(\"PostgreSQL to PySpark\") \\\n",
    "    .master(\"local[*]\") \\\n",
    "    .config(\"spark.jars\", \"/home/hadoop/jars/postgresql-42.6.2.jar\") \\\n",
    "    .getOrCreate()"
   ]
  },
  {
   "cell_type": "code",
   "execution_count": 3,
   "id": "396a636e",
   "metadata": {},
   "outputs": [],
   "source": [
    "df = spark.read.format(\"jdbc\").option(\"url\", \"jdbc:postgresql://localhost:5432/salesDB\") \\\n",
    ".option(\"driver\", \"org.postgresql.Driver\").option(\"dbtable\", \"sales_data\") \\\n",
    ".option(\"user\", \"postgres\").option(\"password\", \"991997\").load()"
   ]
  },
  {
   "cell_type": "code",
   "execution_count": 4,
   "id": "324baf75",
   "metadata": {},
   "outputs": [
    {
     "name": "stdout",
     "output_type": "stream",
     "text": [
      "root\n",
      " |-- invoice_id: string (nullable = true)\n",
      " |-- branch: string (nullable = true)\n",
      " |-- city: string (nullable = true)\n",
      " |-- customer_type: string (nullable = true)\n",
      " |-- gender: string (nullable = true)\n",
      " |-- product_line: string (nullable = true)\n",
      " |-- unit_price: decimal(38,18) (nullable = true)\n",
      " |-- quantity: integer (nullable = true)\n",
      " |-- tax_5_percent: decimal(38,18) (nullable = true)\n",
      " |-- total: decimal(38,18) (nullable = true)\n",
      " |-- date: date (nullable = true)\n",
      " |-- time: timestamp (nullable = true)\n",
      " |-- payment: string (nullable = true)\n",
      " |-- cogs: decimal(38,18) (nullable = true)\n",
      " |-- gross_margin_percentage: decimal(38,18) (nullable = true)\n",
      " |-- gross_income: decimal(38,18) (nullable = true)\n",
      " |-- rating: decimal(38,18) (nullable = true)\n",
      "\n"
     ]
    }
   ],
   "source": [
    "df.printSchema()"
   ]
  },
  {
   "cell_type": "code",
   "execution_count": 5,
   "id": "52abf5cc",
   "metadata": {},
   "outputs": [
    {
     "name": "stderr",
     "output_type": "stream",
     "text": [
      "[Stage 0:>                                                          (0 + 1) / 1]\r"
     ]
    },
    {
     "name": "stdout",
     "output_type": "stream",
     "text": [
      "+-----------+------+---------+-------------+------+--------------------+--------------------+--------+--------------------+--------------------+----------+-------------------+-----------+--------------------+-----------------------+--------------------+--------------------+\n",
      "| invoice_id|branch|     city|customer_type|gender|        product_line|          unit_price|quantity|       tax_5_percent|               total|      date|               time|    payment|                cogs|gross_margin_percentage|        gross_income|              rating|\n",
      "+-----------+------+---------+-------------+------+--------------------+--------------------+--------+--------------------+--------------------+----------+-------------------+-----------+--------------------+-----------------------+--------------------+--------------------+\n",
      "|750-67-8428|     A|   Yangon|       Member|Female|   Health and beauty|74.69000000000000...|       7|26.14150000000000...|548.9715000000000...|2019-01-05|1970-01-01 13:08:00|    Ewallet|522.8300000000000...|   4.761904762000000000|26.14150000000000...|9.100000000000000000|\n",
      "|226-31-3081|     C|Naypyitaw|       Normal|Female|Electronic access...|15.28000000000000...|       5|3.820000000000000000|80.22000000000000...|2019-03-08|1970-01-01 10:29:00|       Cash|76.40000000000000...|   4.761904762000000000|3.820000000000000000|9.600000000000000000|\n",
      "|631-41-3108|     A|   Yangon|       Normal|  Male|  Home and lifestyle|46.33000000000000...|       7|16.21550000000000...|340.5255000000000...|2019-03-03|1970-01-01 13:23:00|Credit card|324.3100000000000...|   4.761904762000000000|16.21550000000000...|7.400000000000000000|\n",
      "|123-19-1176|     A|   Yangon|       Member|  Male|   Health and beauty|58.22000000000000...|       8|23.28800000000000...|489.0480000000000...|2019-01-27|1970-01-01 20:33:00|    Ewallet|465.7600000000000...|   4.761904762000000000|23.28800000000000...|8.400000000000000000|\n",
      "|373-73-7910|     A|   Yangon|       Normal|  Male|   Sports and travel|86.31000000000000...|       7|30.20850000000000...|634.3785000000000...|2019-02-08|1970-01-01 10:37:00|    Ewallet|604.1700000000000...|   4.761904762000000000|30.20850000000000...|5.300000000000000000|\n",
      "+-----------+------+---------+-------------+------+--------------------+--------------------+--------+--------------------+--------------------+----------+-------------------+-----------+--------------------+-----------------------+--------------------+--------------------+\n",
      "only showing top 5 rows\n",
      "\n"
     ]
    },
    {
     "name": "stderr",
     "output_type": "stream",
     "text": [
      "                                                                                \r"
     ]
    }
   ],
   "source": [
    "df.show(5)"
   ]
  },
  {
   "cell_type": "code",
   "execution_count": 6,
   "id": "5e7626d4",
   "metadata": {},
   "outputs": [],
   "source": [
    "hdfs_path = \"hdfs://localhost:9000/sales_data_parquet\""
   ]
  },
  {
   "cell_type": "code",
   "execution_count": 7,
   "id": "7393ad81",
   "metadata": {},
   "outputs": [
    {
     "name": "stderr",
     "output_type": "stream",
     "text": [
      "                                                                                \r"
     ]
    }
   ],
   "source": [
    "df.write.parquet(hdfs_path, mode='overwrite')"
   ]
  },
  {
   "cell_type": "code",
   "execution_count": 5,
   "id": "9c1b52b4",
   "metadata": {},
   "outputs": [
    {
     "data": {
      "text/plain": [
       "['invoice_id',\n",
       " 'branch',\n",
       " 'city',\n",
       " 'customer_type',\n",
       " 'gender',\n",
       " 'product_line',\n",
       " 'unit_price',\n",
       " 'quantity',\n",
       " 'tax_5_percent',\n",
       " 'total',\n",
       " 'date',\n",
       " 'time',\n",
       " 'payment',\n",
       " 'cogs',\n",
       " 'gross_margin_percentage',\n",
       " 'gross_income',\n",
       " 'rating']"
      ]
     },
     "execution_count": 5,
     "metadata": {},
     "output_type": "execute_result"
    }
   ],
   "source": [
    "df.columns"
   ]
  },
  {
   "cell_type": "code",
   "execution_count": 6,
   "id": "6b35a281",
   "metadata": {},
   "outputs": [],
   "source": [
    "#create fact table and dimensions\n",
    "date_dim = df.select('date').distinct().withColumnRenamed('date', 'date_key')\n",
    "branch_dim = df.select('branch', 'city').distinct()\n",
    "customer_dim = df.select('customer_type', 'gender').distinct()\n",
    "product_dim = df.select('product_line', 'unit_price').distinct()\n",
    "sales_fact = df.select(\n",
    "    'invoice_id', 'branch', 'city', 'customer_type', 'gender',\n",
    "    'product_line', 'unit_price', 'quantity', 'tax_5_percent', 'total',\n",
    "    'date', 'time', 'payment', 'cogs', 'gross_margin_percentage',\n",
    "    'gross_income', 'rating'\n",
    ")\n"
   ]
  },
  {
   "cell_type": "code",
   "execution_count": 7,
   "id": "34a21fae",
   "metadata": {},
   "outputs": [],
   "source": [
    "properties = {\n",
    "    \"driver\": \"org.postgresql.Driver\",\n",
    "    \"url\": \"jdbc:postgresql://localhost:5432/salesDB\",  ,
    "    \"user\": \"postgres\",\n",
    "    \"password\": \"991997\"\n",
    "}"
   ]
  },
  {
   "cell_type": "code",
   "execution_count": 18,
   "id": "52e929b3",
   "metadata": {},
   "outputs": [],
   "source": [
    "\n",
    "# Save date_dim DataFrame to PostgreSQL\n",
    "date_dim.write.jdbc(url=properties[\"url\"], table=\"date_dim\", mode=\"overwrite\", properties=properties)\n",
    "\n",
    "# Save branch_dim DataFrame to PostgreSQL\n",
    "branch_dim.write.jdbc(url=properties[\"url\"], table=\"branch_dim\", mode=\"overwrite\", properties=properties)\n",
    "\n",
    "# Save customer_dim DataFrame to PostgreSQL\n",
    "customer_dim.write.jdbc(url=properties[\"url\"], table=\"customer_dim\", mode=\"overwrite\", properties=properties)\n",
    "\n",
    "# Save product_dim DataFrame to PostgreSQL\n",
    "product_dim.write.jdbc(url=properties[\"url\"], table=\"product_dim\", mode=\"overwrite\", properties=properties)\n",
    "\n",
    "# Save sales_fact DataFrame to PostgreSQL\n",
    "sales_fact.write.jdbc(url=properties[\"url\"], table=\"sales_fact\", mode=\"overwrite\", properties=properties)\n"
   ]
  },
  {
   "cell_type": "code",
   "execution_count": 8,
   "id": "9f186ba9",
   "metadata": {},
   "outputs": [],
   "source": [
    "spark = SparkSession.builder \\\n",
    "    .appName(\"Star Schema Implementation\") \\\n",
    "    .config(\"spark.sql.warehouse.dir\", \"hdfs://localhost:9000/user/hive/warehouse\") \\\n",
    "    .config(\"spark.hadoop.hive.metastore.uris\", \"thrift://localhost:9083\") \\\n",
    "    .config(\"spark.sql.catalogImplementation\", \"hive\") \\\n",
    "    .enableHiveSupport() \\\n",
    "    .getOrCreate()\n"
   ]
  },
  {
   "cell_type": "code",
   "execution_count": null,
   "id": "6dde951b",
   "metadata": {},
   "outputs": [],
   "source": []
  },
  {
   "cell_type": "code",
   "execution_count": 9,
   "id": "e000cd99",
   "metadata": {},
   "outputs": [
    {
     "name": "stderr",
     "output_type": "stream",
     "text": [
      "2024-06-30 23:36:37,548 WARN conf.HiveConf: HiveConf of name hive.log.dir does not exist\n",
      "2024-06-30 23:36:37,548 WARN conf.HiveConf: HiveConf of name hive.root.logger does not exist\n",
      "2024-06-30 23:36:37,549 WARN conf.HiveConf: HiveConf of name hive.log.file does not exist\n",
      "2024-06-30 23:36:41,172 WARN session.SessionState: METASTORE_FILTER_HOOK will be ignored, since hive.security.authorization.manager is set to instance of HiveAuthorizerFactory.\n"
     ]
    }
   ],
   "source": [
    "# Save dimension DataFrames to Hive tables\n",
    "date_dim.write.mode(\"overwrite\").saveAsTable(\"date_dim\")\n",
    "branch_dim.write.mode(\"overwrite\").saveAsTable(\"branch_dim\")\n",
    "customer_dim.write.mode(\"overwrite\").saveAsTable(\"customer_dim\")\n",
    "product_dim.write.mode(\"overwrite\").saveAsTable(\"product_dim\")\n",
    "\n",
    "# Save fact DataFrame to Hive table\n",
    "sales_fact.write.mode(\"overwrite\").saveAsTable(\"sales_fact\")\n"
   ]
  },
  {
   "cell_type": "code",
   "execution_count": null,
   "id": "1220d07c",
   "metadata": {},
   "outputs": [],
   "source": []
  }
 ],
 "metadata": {
  "kernelspec": {
   "display_name": "Python 3 (ipykernel)",
   "language": "python",
   "name": "python3"
  },
  "language_info": {
   "codemirror_mode": {
    "name": "ipython",
    "version": 3
   },
   "file_extension": ".py",
   "mimetype": "text/x-python",
   "name": "python",
   "nbconvert_exporter": "python",
   "pygments_lexer": "ipython3",
   "version": "3.12.3"
  }
 },
 "nbformat": 4,
 "nbformat_minor": 5
}
